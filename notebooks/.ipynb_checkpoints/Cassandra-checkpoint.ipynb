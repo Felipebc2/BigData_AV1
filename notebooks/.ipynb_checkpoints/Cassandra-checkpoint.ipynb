{
 "cells": [
  {
   "cell_type": "markdown",
   "id": "a568c843-b46e-4912-84a8-65ae8a329558",
   "metadata": {},
   "source": [
    "# Cassandra"
   ]
  },
  {
   "cell_type": "code",
   "execution_count": 26,
   "id": "08d181bf-cd32-4946-b6ed-41ea6d6f7395",
   "metadata": {},
   "outputs": [
    {
     "name": "stdout",
     "output_type": "stream",
     "text": [
      "Conexão estabelecida com sucesso!\n"
     ]
    }
   ],
   "source": [
    "from cassandra.cluster import Cluster\n",
    "from cassandra.auth import PlainTextAuthProvider\n",
    "from cassandra import OperationTimedOut\n",
    "\n",
    "# Configuração de autenticação e conexão\n",
    "auth_provider = PlainTextAuthProvider(username='cassandra', password='cassandra')\n",
    "cluster = Cluster(['172.19.0.4'], port=9042, auth_provider=auth_provider)\n",
    "\n",
    "try:\n",
    "    # Inicia a sessão de conexão\n",
    "    session = cluster.connect()\n",
    "\n",
    "    # Verifica se a conexão foi bem-sucedida executando uma consulta simples\n",
    "    session.execute(\"SELECT * FROM system.local\")\n",
    "    print(\"Conexão estabelecida com sucesso!\")\n",
    "\n",
    "except OperationTimedOut:\n",
    "    print(\"Falha na conexão ao servidor Cassandra\")\n",
    "\n",
    "session = cluster.connect('aulademo')"
   ]
  },
  {
   "cell_type": "code",
   "execution_count": 27,
   "id": "3e330074-c712-4e0b-86a4-3c1656178b9e",
   "metadata": {},
   "outputs": [],
   "source": [
    "def buscar_e_modificar_estudante(nome, acao, novo_valor=None):\n",
    "    try:\n",
    "        # Busca o estudante pelo nome\n",
    "        consulta = f\"SELECT id FROM estudantes WHERE nome = %s ALLOW FILTERING\"\n",
    "        resultado = session.execute(consulta, [nome])\n",
    "        estudante = resultado.one()\n",
    "        \n",
    "        if not estudante:\n",
    "            print(\"Estudante não encontrado.\")\n",
    "            return\n",
    "\n",
    "        id_estudante = estudante.id\n",
    "\n",
    "        if acao == 'excluir':\n",
    "            session.execute(\"DELETE FROM estudantes WHERE id = %s\", [id_estudante])\n",
    "            print(f\"Estudante '{nome}' excluído com sucesso.\")\n",
    "        \n",
    "        elif acao == 'atualizar_curso' and novo_valor:\n",
    "            session.execute(\"UPDATE estudantes SET curso = %s WHERE id = %s\", [novo_valor, id_estudante])\n",
    "            print(f\"Curso do estudante '{nome}' atualizado para '{novo_valor}'.\")\n",
    "        \n",
    "        else:\n",
    "            print(\"Ação inválida ou valor não fornecido.\")\n",
    "\n",
    "    except Exception as e:\n",
    "        print(\"Erro:\", e)"
   ]
  },
  {
   "cell_type": "code",
   "execution_count": 28,
   "id": "9ac4b2fc-32bd-4f81-bccd-e6da4a5b8984",
   "metadata": {},
   "outputs": [
    {
     "name": "stdout",
     "output_type": "stream",
     "text": [
      "Curso do estudante 'Lucas Almeida' atualizado para 'Engenharia de Software'.\n"
     ]
    }
   ],
   "source": [
    "# Altera o curso do estudante Lucas Almeida para Engenharia de Software\n",
    "buscar_e_modificar_estudante(\"Lucas Almeida\", \"atualizar_curso\", \"Engenharia de Software\")"
   ]
  },
  {
   "cell_type": "code",
   "execution_count": 29,
   "id": "1028185a-20dc-4df4-a233-439922a8f9e6",
   "metadata": {},
   "outputs": [
    {
     "name": "stdout",
     "output_type": "stream",
     "text": [
      "Curso do estudante 'Lucas Almeida' atualizado para 'Ciência da Computação'.\n"
     ]
    }
   ],
   "source": [
    "# Altera o curso do estudante Lucas Almeida para Ciência da Computação\n",
    "buscar_e_modificar_estudante(\"Lucas Almeida\", \"atualizar_curso\", \"Ciência da Computação\")"
   ]
  },
  {
   "cell_type": "code",
   "execution_count": 30,
   "id": "3ffa451e-7eb5-4c48-b8be-1efeebe51532",
   "metadata": {},
   "outputs": [
    {
     "name": "stdout",
     "output_type": "stream",
     "text": [
      "Estudante 'Ana Paula' excluído com sucesso.\n",
      "Estudante 'Domitila Canto' excluído com sucesso.\n",
      "Estudante 'Lucas Almeida' excluído com sucesso.\n",
      "Estudante 'Mariana Silva' excluído com sucesso.\n",
      "Estudante 'João Leite' excluído com sucesso.\n"
     ]
    }
   ],
   "source": [
    "# Exclusão dos usuários\n",
    "\n",
    "buscar_e_modificar_estudante(\"Ana Paula\", \"excluir\")\n",
    "buscar_e_modificar_estudante(\"Domitila Canto\", \"excluir\")\n",
    "buscar_e_modificar_estudante(\"Lucas Almeida\", \"excluir\")\n",
    "buscar_e_modificar_estudante(\"Mariana Silva\", \"excluir\")\n",
    "buscar_e_modificar_estudante(\"João Leite\", \"excluir\")"
   ]
  },
  {
   "cell_type": "code",
   "execution_count": 31,
   "id": "79aa5bff-2e77-4e2c-97ac-afee34024074",
   "metadata": {},
   "outputs": [
    {
     "name": "stdout",
     "output_type": "stream",
     "text": [
      "Registros inseridos com sucesso.\n"
     ]
    }
   ],
   "source": [
    "import uuid\n",
    "\n",
    "# Essa parte é para inserção novamente dos usuários para reutilização do Notebook\n",
    "\n",
    "# Garante que está usando o keyspace correto\n",
    "session.set_keyspace('aulademo')\n",
    "\n",
    "# Inserção dos 5 registros\n",
    "estudantes = [\n",
    "    {\"nome\": \"Domitila Canto\", \"idade\": 22, \"curso\": \"Ciência da Computação\", \"email\": \"domitila.canto@email.com\"},\n",
    "    {\"nome\": \"Lucas Almeida\", \"idade\": 23, \"curso\": \"Engenharia de Software\", \"email\": \"Lucas.Almeida@email.com\"},\n",
    "    {\"nome\": \"Ana Paula\", \"idade\": 20, \"curso\": \"Ciência da Computação\", \"email\": \"Ana.paula@email.com\"},\n",
    "    {\"nome\": \"Mariana Silva\", \"idade\": 21, \"curso\": \"Ciência da Computação\", \"email\": \"Mariana.silva@email.com\"},\n",
    "    {\"nome\": \"João Leite\", \"idade\": 22, \"curso\": \"Engenharia de Software\", \"email\": \"joao.leite@email.com\"}\n",
    "]\n",
    "\n",
    "for est in estudantes:\n",
    "    session.execute(\"\"\"\n",
    "        INSERT INTO estudantes (id, nome, idade, curso, email)\n",
    "        VALUES (%s, %s, %s, %s, %s)\n",
    "    \"\"\", (uuid.uuid4(), est[\"nome\"], est[\"idade\"], est[\"curso\"], est[\"email\"]))\n",
    "\n",
    "print(\"Registros inseridos com sucesso.\")\n"
   ]
  }
 ],
 "metadata": {
  "kernelspec": {
   "display_name": "Python 3 (ipykernel)",
   "language": "python",
   "name": "python3"
  },
  "language_info": {
   "codemirror_mode": {
    "name": "ipython",
    "version": 3
   },
   "file_extension": ".py",
   "mimetype": "text/x-python",
   "name": "python",
   "nbconvert_exporter": "python",
   "pygments_lexer": "ipython3",
   "version": "3.11.6"
  }
 },
 "nbformat": 4,
 "nbformat_minor": 5
}
